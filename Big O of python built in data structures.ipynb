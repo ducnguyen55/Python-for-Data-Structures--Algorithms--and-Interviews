{
 "cells": [
  {
   "cell_type": "markdown",
   "metadata": {},
   "source": [
    "# Lists"
   ]
  },
  {
   "cell_type": "code",
   "execution_count": 1,
   "metadata": {
    "collapsed": true
   },
   "outputs": [],
   "source": [
    "def method1():\n",
    "    l=[]\n",
    "    for n in range(10000):\n",
    "        l=l+[n]\n",
    "\n",
    "def method2():\n",
    "    l=[]\n",
    "    for n in range(10000):\n",
    "        l.append(n)\n",
    "        \n",
    "def method3():\n",
    "    l = [n for n in range(10000)]\n",
    "    \n",
    "def method4():\n",
    "    l=list(range(10000))"
   ]
  },
  {
   "cell_type": "code",
   "execution_count": 2,
   "metadata": {
    "collapsed": false
   },
   "outputs": [
    {
     "name": "stdout",
     "output_type": "stream",
     "text": [
      "10 loops, best of 3: 157 ms per loop\n",
      "1000 loops, best of 3: 704 µs per loop\n",
      "1000 loops, best of 3: 306 µs per loop\n",
      "10000 loops, best of 3: 141 µs per loop\n"
     ]
    }
   ],
   "source": [
    "%timeit method1()\n",
    "%timeit method2()\n",
    "%timeit method3()\n",
    "%timeit method4()"
   ]
  },
  {
   "cell_type": "markdown",
   "metadata": {},
   "source": [
    "# Table of Big-O for common list operations\n",
    "|Operation|Big-O Efficiency|\n",
    "|---------|----------------|\n",
    "|index []|O(1)|\n",
    "|index assignment|O(1)|\n",
    "|append|O(1)|\n",
    "|pop()|O(1)|\n",
    "|pop(i)|O(n)|\n",
    "|insert(i,item)|O(n)|\n",
    "|del operator|O(n)|\n",
    "|iteration|O(n)|\n",
    "|contains (in)|O(n)|\n",
    "|get slice[x:y]|O(k)|\n",
    "|del slice|O(n)|\n",
    "|set slice|O(n+k)|\n",
    "|reverse|O(n)|\n",
    "|concatenate|O(k)|\n",
    "|sort|O(n log n)|\n",
    "|multiply|O(nk)|"
   ]
  },
  {
   "cell_type": "code",
   "execution_count": null,
   "metadata": {
    "collapsed": true
   },
   "outputs": [],
   "source": []
  }
 ],
 "metadata": {
  "kernelspec": {
   "display_name": "Python 3",
   "language": "python",
   "name": "python3"
  },
  "language_info": {
   "codemirror_mode": {
    "name": "ipython",
    "version": 3
   },
   "file_extension": ".py",
   "mimetype": "text/x-python",
   "name": "python",
   "nbconvert_exporter": "python",
   "pygments_lexer": "ipython3",
   "version": "3.5.1"
  }
 },
 "nbformat": 4,
 "nbformat_minor": 0
}

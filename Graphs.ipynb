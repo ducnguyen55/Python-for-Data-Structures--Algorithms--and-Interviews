{
 "cells": [
  {
   "cell_type": "code",
   "execution_count": 15,
   "metadata": {
    "collapsed": true
   },
   "outputs": [],
   "source": [
    "class Vertex(object):\n",
    "    def __init__(self, key):\n",
    "        self.key = key\n",
    "        self.connectedTo = {}\n",
    "    \n",
    "    def addNeighbor(self, vert, weight=0):\n",
    "        self.connectedTo[vert]=weight\n",
    "        \n",
    "    def getConnections(self):\n",
    "        self.connectedTo.keys()\n",
    "    \n",
    "    def getKey(self):\n",
    "        return self.key\n",
    "    \n",
    "    def getWeight(self, vert):\n",
    "        return self.connectedTo[vert]\n",
    "    \n",
    "    def __str__(self):\n",
    "        return str(self.key) + ' connected to: ' + str([x.key for x in self.connectedTo])\n",
    "    \n",
    "    "
   ]
  },
  {
   "cell_type": "code",
   "execution_count": 16,
   "metadata": {
    "collapsed": true
   },
   "outputs": [],
   "source": [
    "class Graph(object):\n",
    "    def __init__(self):\n",
    "        self.vertList = {}\n",
    "        self.numVertices = 0\n",
    "    \n",
    "    def addVertex(self, key):\n",
    "        self.numVertices += 1\n",
    "        newVert = Vertex(key)\n",
    "        self.vertList[key] = newVert\n",
    "        return newVert\n",
    "    \n",
    "    def addEdge(self,fromVert, toVert, weight = 0):\n",
    "        if fromVert not in self.vertList:\n",
    "            self.addVertex(fromVert)\n",
    "        if toVert not in self.vertList:\n",
    "            self.addVertex(toVert)\n",
    "            \n",
    "        self.vertList[fromVert].addNeighbor(self.vertList[toVert], weight)\n",
    "    \n",
    "    def getVertex(self, key):\n",
    "        if key in self.vertList:\n",
    "            return self.vertList[key]\n",
    "        return None\n",
    "    \n",
    "    def getVertices(self):\n",
    "        return self.vertList.keys()\n",
    "    \n",
    "    def __iter__(self):\n",
    "        return iter(self.vertList.values())\n",
    "    \n",
    "    def __contains__(self, n):\n",
    "        return n in self.vertList"
   ]
  },
  {
   "cell_type": "code",
   "execution_count": 17,
   "metadata": {
    "collapsed": true
   },
   "outputs": [],
   "source": [
    "g = Graph()"
   ]
  },
  {
   "cell_type": "code",
   "execution_count": 18,
   "metadata": {
    "collapsed": true
   },
   "outputs": [],
   "source": [
    "for i in range(6):\n",
    "    g.addVertex(i)"
   ]
  },
  {
   "cell_type": "code",
   "execution_count": 19,
   "metadata": {
    "collapsed": false
   },
   "outputs": [
    {
     "data": {
      "text/plain": [
       "{0: <__main__.Vertex at 0x9a25f31f60>,\n",
       " 1: <__main__.Vertex at 0x9a25f31e80>,\n",
       " 2: <__main__.Vertex at 0x9a25f31ef0>,\n",
       " 3: <__main__.Vertex at 0x9a25f0b470>,\n",
       " 4: <__main__.Vertex at 0x9a25f0b128>,\n",
       " 5: <__main__.Vertex at 0x9a25f0bc88>}"
      ]
     },
     "execution_count": 19,
     "metadata": {},
     "output_type": "execute_result"
    }
   ],
   "source": [
    "g.vertList"
   ]
  },
  {
   "cell_type": "code",
   "execution_count": 20,
   "metadata": {
    "collapsed": false
   },
   "outputs": [],
   "source": [
    "g.addEdge(0,1,2)"
   ]
  },
  {
   "cell_type": "code",
   "execution_count": 21,
   "metadata": {
    "collapsed": false
   },
   "outputs": [
    {
     "name": "stdout",
     "output_type": "stream",
     "text": [
      "0 connected to: [1]\n",
      "None\n",
      "\n",
      "\n",
      "1 connected to: []\n",
      "None\n",
      "\n",
      "\n",
      "2 connected to: []\n",
      "None\n",
      "\n",
      "\n",
      "3 connected to: []\n",
      "None\n",
      "\n",
      "\n",
      "4 connected to: []\n",
      "None\n",
      "\n",
      "\n",
      "5 connected to: []\n",
      "None\n",
      "\n",
      "\n"
     ]
    }
   ],
   "source": [
    "for vertex in g:\n",
    "    print(vertex)\n",
    "    print (vertex.getConnections())\n",
    "    print('\\n')"
   ]
  },
  {
   "cell_type": "code",
   "execution_count": 22,
   "metadata": {
    "collapsed": true
   },
   "outputs": [],
   "source": [
    "def bfs(g, start):\n",
    "    distanceTo = {start:0}\n",
    "    preds = {start:0}\n",
    "    vqueue = [start]\n",
    "    while len(vqueue) > 0:\n",
    "        current  = vqueue.popleft()\n",
    "        for nbr in current.getConnections():\n",
    "            if nbr not in distanceTo:\n",
    "                distanceTo[nbr] = distanceTo[current]+1\n",
    "                preds[nbr] = current\n",
    "                vqueue.append(nbr)\n",
    "            \n",
    "        "
   ]
  }
 ],
 "metadata": {
  "kernelspec": {
   "display_name": "Python 3",
   "language": "python",
   "name": "python3"
  },
  "language_info": {
   "codemirror_mode": {
    "name": "ipython",
    "version": 3
   },
   "file_extension": ".py",
   "mimetype": "text/x-python",
   "name": "python",
   "nbconvert_exporter": "python",
   "pygments_lexer": "ipython3",
   "version": "3.5.1"
  }
 },
 "nbformat": 4,
 "nbformat_minor": 0
}

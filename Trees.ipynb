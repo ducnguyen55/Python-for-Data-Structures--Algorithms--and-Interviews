{
 "cells": [
  {
   "cell_type": "code",
   "execution_count": 3,
   "metadata": {
    "collapsed": true
   },
   "outputs": [],
   "source": [
    "class BinaryTreeNode(object):\n",
    "    def __init__(self, rootObj):\n",
    "        self.key = rootObj\n",
    "        self.leftChild = None\n",
    "        self.rightChild = None\n",
    "        \n",
    "    def insertLeftChild(self, newNode):\n",
    "        if self.leftChild is None:\n",
    "            self.leftChild = BinaryTreeNode(newNode)\n",
    "        else:\n",
    "            t = BinaryTree(newNode)\n",
    "            t.leftChild = self.leftChild\n",
    "            self.leftChild = t\n",
    "    \n",
    "    def insertRightChild(self, newNode):\n",
    "        if self.rightChild is None:\n",
    "            self.rightChild = BinaryTreeNode(newNode)\n",
    "        else:\n",
    "            t = BinaryTree(newNode)\n",
    "            t.rightChild = self.rightChild\n",
    "            self.rightChild = t\n",
    "            \n",
    "            \n",
    "    def getRightChild(self):\n",
    "        return self.rightChild\n",
    "    \n",
    "    def getLeftChild(self):\n",
    "        return self.leftChild\n",
    "    \n",
    "    def setRootVal(self, obj):\n",
    "        self.key= obj\n",
    "        \n",
    "    def getRootVal(self):\n",
    "        return self.key\n",
    "    "
   ]
  },
  {
   "cell_type": "code",
   "execution_count": 3,
   "metadata": {
    "collapsed": true
   },
   "outputs": [],
   "source": [
    "class TreeNode(object):\n",
    "    def __init__(self, value):\n",
    "        self.value=value\n",
    "        self.children = []"
   ]
  },
  {
   "cell_type": "code",
   "execution_count": 15,
   "metadata": {
    "collapsed": true
   },
   "outputs": [],
   "source": [
    "r = BinaryTreeNode('a')"
   ]
  },
  {
   "cell_type": "code",
   "execution_count": 16,
   "metadata": {
    "collapsed": false
   },
   "outputs": [
    {
     "data": {
      "text/plain": [
       "'a'"
      ]
     },
     "execution_count": 16,
     "metadata": {},
     "output_type": "execute_result"
    }
   ],
   "source": [
    "r.getRootVal()"
   ]
  },
  {
   "cell_type": "code",
   "execution_count": 17,
   "metadata": {
    "collapsed": false
   },
   "outputs": [],
   "source": [
    "r.getLeftChild()"
   ]
  },
  {
   "cell_type": "code",
   "execution_count": 18,
   "metadata": {
    "collapsed": true
   },
   "outputs": [],
   "source": [
    "r.insertLeftChild('b')"
   ]
  },
  {
   "cell_type": "code",
   "execution_count": 19,
   "metadata": {
    "collapsed": false
   },
   "outputs": [
    {
     "data": {
      "text/plain": [
       "'b'"
      ]
     },
     "execution_count": 19,
     "metadata": {},
     "output_type": "execute_result"
    }
   ],
   "source": [
    "r.getLeftChild().getRootVal()"
   ]
  },
  {
   "cell_type": "code",
   "execution_count": null,
   "metadata": {
    "collapsed": true
   },
   "outputs": [],
   "source": [
    "def preorder(r):\n",
    "    if r is not None:\n",
    "        print(r.GetRootVal())\n",
    "        preorder(r.getLeftChild())\n",
    "        preorder(r.getRightChild())\n",
    "def postorder(r):\n",
    "    if r is not None:\n",
    "        preorder(r.getLeftChild())\n",
    "        preorder(r.getRightChild())\n",
    "        print(r.GetRootVal())\n",
    "def inorder(r):\n",
    "    if r is not None:\n",
    "        preorder(r.getLeftChild())\n",
    "        print(r.GetRootVal())\n",
    "        preorder(r.getRightChild())"
   ]
  },
  {
   "cell_type": "code",
   "execution_count": 1,
   "metadata": {
    "collapsed": true
   },
   "outputs": [],
   "source": [
    "class BinarySearchTree:\n",
    "    def __init__(self):\n",
    "        self.root = None\n",
    "        self.size = 0\n",
    "        \n",
    "    def length(self):\n",
    "        return self.size\n",
    "    \n",
    "    def __len__(self):\n",
    "        return self.size\n",
    "    \n",
    "    def __iter__(self):\n",
    "        return self.root.__iter__()"
   ]
  },
  {
   "cell_type": "code",
   "execution_count": 20,
   "metadata": {
    "collapsed": true
   },
   "outputs": [],
   "source": [
    "def tree_max(node):\n",
    "    if not node:\n",
    "        return float(\"-inf\")\n",
    "    maxleft = tree_max(node.getLeftChild())\n",
    "    maxright = tree_max(node.getRightChild())\n",
    "    return max(node.getRootVal(), maxleft, maxright)\n",
    "\n",
    "def tree_min(node):\n",
    "    if not node:\n",
    "        return float(\"inf\")\n",
    "    minleft = tree_min(node.getLeftChild())\n",
    "    minright = tree_min(node.getRightChild())\n",
    "    return min(node.getRootVal(), minleft, minright)\n",
    "\n",
    "def verify(node):\n",
    "    if not node:\n",
    "        return True\n",
    "    if(tree_max(node.getLeftChild()) <= node.getRootVal() <= tree_min(node.getRightChild()) and\n",
    "      verify(node.getLeftChild()) and verify(node.getRightChild())):\n",
    "        return True\n",
    "    return False"
   ]
  },
  {
   "cell_type": "code",
   "execution_count": 21,
   "metadata": {
    "collapsed": true
   },
   "outputs": [],
   "source": [
    "root = BinaryTreeNode(10)\n",
    "root.insertRightChild(20)\n",
    "root.insertLeftChild(5)\n",
    "root.getLeftChild().insertRightChild(15)"
   ]
  },
  {
   "cell_type": "code",
   "execution_count": 22,
   "metadata": {
    "collapsed": false
   },
   "outputs": [
    {
     "name": "stdout",
     "output_type": "stream",
     "text": [
      "False\n"
     ]
    }
   ],
   "source": [
    "print(verify(root))"
   ]
  },
  {
   "cell_type": "code",
   "execution_count": 29,
   "metadata": {
    "collapsed": true
   },
   "outputs": [],
   "source": [
    "def levelOrderPrint(tree):\n",
    "    curr = [tree]\n",
    "    while(len(curr) > 0):\n",
    "        print(' '.join(str(c.getRootVal()) for c in curr))\n",
    "        n = []\n",
    "        for node in curr:\n",
    "            if node.getLeftChild():\n",
    "                n.append(node.getLeftChild())\n",
    "            if node.getRightChild():\n",
    "                n.append(node.getRightChild())\n",
    "        curr = n"
   ]
  },
  {
   "cell_type": "code",
   "execution_count": 41,
   "metadata": {
    "collapsed": false
   },
   "outputs": [],
   "source": [
    "def levelOrderPrint2(tree):\n",
    "    curr = [tree]\n",
    "    while(len(curr) > 0):\n",
    "        print(' '.join(str(c.val) for c in curr))\n",
    "        n = []\n",
    "        for node in curr:\n",
    "            if node.left:\n",
    "                n.append(node.left)\n",
    "            if node.right:\n",
    "                n.append(node.right)\n",
    "        curr = n"
   ]
  },
  {
   "cell_type": "code",
   "execution_count": 30,
   "metadata": {
    "collapsed": false
   },
   "outputs": [
    {
     "name": "stdout",
     "output_type": "stream",
     "text": [
      "10\n",
      "5 20\n",
      "15\n"
     ]
    }
   ],
   "source": [
    "levelOrderPrint(root)"
   ]
  },
  {
   "cell_type": "code",
   "execution_count": 31,
   "metadata": {
    "collapsed": true
   },
   "outputs": [],
   "source": [
    "class Node(object):\n",
    "    def __init__(self, val = None):\n",
    "        self.val = val\n",
    "        self.left=None\n",
    "        self.right=None\n",
    "    "
   ]
  },
  {
   "cell_type": "code",
   "execution_count": 32,
   "metadata": {
    "collapsed": true
   },
   "outputs": [],
   "source": [
    "def trimBST(tree, minVal, maxVal):\n",
    "    if tree:\n",
    "        if tree.val > maxVal:\n",
    "            return trimBST(tree.left, minVal, maxVal)\n",
    "        if tree.val < minVal:\n",
    "            return trimBST(tree.right, minVal, maxVal)\n",
    "        tree.left = trimBST(tree.left, minVal, maxVal)\n",
    "        tree.right = trimBST(tree.right, minVal, maxVal)\n",
    "    return tree"
   ]
  },
  {
   "cell_type": "code",
   "execution_count": 51,
   "metadata": {
    "collapsed": true
   },
   "outputs": [],
   "source": [
    "root = Node(8)\n",
    "root.left = Node(6)\n",
    "root.left.right = Node(7)\n",
    "root.right = Node(10)\n",
    "root.right.right = Node(13)"
   ]
  },
  {
   "cell_type": "code",
   "execution_count": 54,
   "metadata": {
    "collapsed": false
   },
   "outputs": [],
   "source": [
    "root = trimBST(root, 1,7)"
   ]
  },
  {
   "cell_type": "code",
   "execution_count": 53,
   "metadata": {
    "collapsed": false
   },
   "outputs": [
    {
     "name": "stdout",
     "output_type": "stream",
     "text": [
      "6\n",
      "7\n"
     ]
    }
   ],
   "source": [
    "levelOrderPrint2(root)"
   ]
  }
 ],
 "metadata": {
  "kernelspec": {
   "display_name": "Python 3",
   "language": "python",
   "name": "python3"
  },
  "language_info": {
   "codemirror_mode": {
    "name": "ipython",
    "version": 3
   },
   "file_extension": ".py",
   "mimetype": "text/x-python",
   "name": "python",
   "nbconvert_exporter": "python",
   "pygments_lexer": "ipython3",
   "version": "3.5.1"
  }
 },
 "nbformat": 4,
 "nbformat_minor": 0
}

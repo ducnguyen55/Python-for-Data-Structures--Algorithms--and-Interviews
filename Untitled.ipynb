{
 "cells": [
  {
   "cell_type": "code",
   "execution_count": null,
   "metadata": {
    "collapsed": true
   },
   "outputs": [],
   "source": [
    "req binary_search(arr, search_item):\n",
    "    if len(arr)<1:\n",
    "        return False\n",
    "    mid = len(arr)//2\n",
    "    if arr[mid] == search_item:\n",
    "        return True\n",
    "    if arr[mid] > search_item:\n",
    "        return binary_search(arr[:mid], search_item)\n",
    "    else return binary_search(arr[mid+1:], search_item)"
   ]
  }
 ],
 "metadata": {
  "kernelspec": {
   "display_name": "Python 3",
   "language": "python",
   "name": "python3"
  },
  "language_info": {
   "codemirror_mode": {
    "name": "ipython",
    "version": 3
   },
   "file_extension": ".py",
   "mimetype": "text/x-python",
   "name": "python",
   "nbconvert_exporter": "python",
   "pygments_lexer": "ipython3",
   "version": "3.5.1"
  }
 },
 "nbformat": 4,
 "nbformat_minor": 0
}

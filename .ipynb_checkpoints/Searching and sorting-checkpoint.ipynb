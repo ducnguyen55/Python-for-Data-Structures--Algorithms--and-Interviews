{
 "cells": [
  {
   "cell_type": "code",
   "execution_count": 2,
   "metadata": {
    "collapsed": false
   },
   "outputs": [
    {
     "data": {
      "text/plain": [
       "True"
      ]
     },
     "execution_count": 2,
     "metadata": {},
     "output_type": "execute_result"
    }
   ],
   "source": [
    "3 in [3,5,2,4,1]"
   ]
  },
  {
   "cell_type": "code",
   "execution_count": null,
   "metadata": {
    "collapsed": true
   },
   "outputs": [],
   "source": [
    "def seq_search(arr, ele):\n",
    "    pos = 0\n",
    "    found = False\n",
    "    \n",
    "    while pos < len(arr) and not found:\n",
    "        if arr[pos] == ele:\n",
    "            found = True\n",
    "        else:\n",
    "            pos += 1\n",
    "    return found\n",
    "        "
   ]
  },
  {
   "cell_type": "code",
   "execution_count": null,
   "metadata": {
    "collapsed": true
   },
   "outputs": [],
   "source": [
    "def ordered_seq_search(arr, ele):\n",
    "    pos = 0\n",
    "    found = False\n",
    "    stopped = False\n",
    "    \n",
    "    while pos < len(arr) and not found and not stopped:\n",
    "        if arr[pos] == ele:\n",
    "            found = True\n",
    "        else:\n",
    "            if arr[pos] > ele:\n",
    "                stopped = True\n",
    "            else:\n",
    "                pos += 1\n",
    "    return found"
   ]
  },
  {
   "cell_type": "code",
   "execution_count": 10,
   "metadata": {
    "collapsed": true
   },
   "outputs": [],
   "source": [
    "def binary_search(arr, ele):\n",
    "    first = 0\n",
    "    last = len(arr)-1\n",
    "    found = False\n",
    "    \n",
    "    while first <= last and not found:\n",
    "        mid = (first+last)//2\n",
    "        if arr [mid]==ele:\n",
    "            found = True\n",
    "        else: \n",
    "            if ele<arr[mid]:\n",
    "                last = mid-1\n",
    "            else:\n",
    "                first = mid+1\n",
    "    return found\n"
   ]
  },
  {
   "cell_type": "code",
   "execution_count": 8,
   "metadata": {
    "collapsed": true
   },
   "outputs": [],
   "source": [
    "arr = [1,2,3,4,5,6,7,8,9,10]"
   ]
  },
  {
   "cell_type": "code",
   "execution_count": 12,
   "metadata": {
    "collapsed": false
   },
   "outputs": [
    {
     "data": {
      "text/plain": [
       "False"
      ]
     },
     "execution_count": 12,
     "metadata": {},
     "output_type": "execute_result"
    }
   ],
   "source": [
    "binary_search(arr, 52)"
   ]
  },
  {
   "cell_type": "code",
   "execution_count": 14,
   "metadata": {
    "collapsed": true
   },
   "outputs": [],
   "source": [
    "def rec_bin_search(arr, ele):\n",
    "    if len(arr)==0:\n",
    "        return False\n",
    "    else:\n",
    "        mid = len(arr)//2\n",
    "        if arr[mid]==ele:\n",
    "            return True\n",
    "        else:\n",
    "            if ele<arr[mid]:\n",
    "                return rec_bin_search(arr[:mid],ele)\n",
    "            else:\n",
    "                return rec_bin_search(arr[mid+1:],ele)"
   ]
  },
  {
   "cell_type": "code",
   "execution_count": 16,
   "metadata": {
    "collapsed": false
   },
   "outputs": [
    {
     "data": {
      "text/plain": [
       "False"
      ]
     },
     "execution_count": 16,
     "metadata": {},
     "output_type": "execute_result"
    }
   ],
   "source": [
    "rec_bin_search(arr, 35)"
   ]
  },
  {
   "cell_type": "code",
   "execution_count": 35,
   "metadata": {
    "collapsed": false
   },
   "outputs": [],
   "source": [
    "class HashTable(object):\n",
    "    def __init__(self, size):\n",
    "        self.size=size\n",
    "        self.slots = [None] * self.size\n",
    "        self.data = [None] * self.size\n",
    "    \n",
    "    def put(self, key, val):\n",
    "        hashvalue = self.hashfunction(key, len(self.slots))\n",
    "        if self.slots[hashvalue] == None:\n",
    "            self.slots[hashvalue] = key\n",
    "            self.data[hashvalue] =  val\n",
    "        else:\n",
    "            if self.slots[hashvalue] == key:\n",
    "                self.data[hashvalue] = val\n",
    "            else:\n",
    "                nextslot = self.rehash(hashvalue, len ([self.slots]))\n",
    "                \n",
    "                while self.slots[nextslot] != None and self.slots[nextslot] != key:\n",
    "                    nextslot = self.rehash(nextslot,len(self.slots))\n",
    "                if self.slots[nextslot] == None:\n",
    "                    self.slots[nextslot] = key\n",
    "                    self.data[nextslot] = val\n",
    "                else:\n",
    "                    self.data[nextslot] = val\n",
    "        \n",
    "    def hashfunction(self, key, size):\n",
    "        return key % size\n",
    "    \n",
    "    def rehash(self, oldhash, size):\n",
    "        return (oldhash+1) % size\n",
    "    \n",
    "    def get(self, key):\n",
    "        startslot = self.hashfunction(key, len(self.slots))\n",
    "        data = None\n",
    "        stop = False\n",
    "        found = False\n",
    "        position = startslot\n",
    "        while self.slots[position] != None and not found and not stop:\n",
    "            if self.slots[position] == key:\n",
    "                found = True\n",
    "                data = self.data[position]\n",
    "            else:\n",
    "                position = self.rehash(position, len(self.slots))\n",
    "                if position==startslot:\n",
    "                    stop = True\n",
    "        return data\n",
    "    \n",
    "    def __getitem__(self, key):\n",
    "        return self.get(key)\n",
    "    \n",
    "    def __setitem__(self, key, val):\n",
    "        self.put(key, val)"
   ]
  },
  {
   "cell_type": "code",
   "execution_count": 36,
   "metadata": {
    "collapsed": true
   },
   "outputs": [],
   "source": [
    "h = HashTable(5)"
   ]
  },
  {
   "cell_type": "code",
   "execution_count": 37,
   "metadata": {
    "collapsed": false
   },
   "outputs": [],
   "source": [
    "h[1] = \"one\""
   ]
  },
  {
   "cell_type": "code",
   "execution_count": 38,
   "metadata": {
    "collapsed": true
   },
   "outputs": [],
   "source": [
    "h[2]='two'"
   ]
  },
  {
   "cell_type": "code",
   "execution_count": 39,
   "metadata": {
    "collapsed": true
   },
   "outputs": [],
   "source": [
    "h[3]='three'"
   ]
  },
  {
   "cell_type": "code",
   "execution_count": 40,
   "metadata": {
    "collapsed": false
   },
   "outputs": [
    {
     "data": {
      "text/plain": [
       "'one'"
      ]
     },
     "execution_count": 40,
     "metadata": {},
     "output_type": "execute_result"
    }
   ],
   "source": [
    "h[1]"
   ]
  },
  {
   "cell_type": "code",
   "execution_count": 41,
   "metadata": {
    "collapsed": false
   },
   "outputs": [
    {
     "data": {
      "text/plain": [
       "'three'"
      ]
     },
     "execution_count": 41,
     "metadata": {},
     "output_type": "execute_result"
    }
   ],
   "source": [
    "h[3]"
   ]
  },
  {
   "cell_type": "markdown",
   "metadata": {},
   "source": [
    "## Sorting"
   ]
  },
  {
   "cell_type": "code",
   "execution_count": 50,
   "metadata": {
    "collapsed": false
   },
   "outputs": [],
   "source": [
    "def bubble_sort(arr):\n",
    "    for n in range(len(arr)-1,0,-1):\n",
    "        swapped = False\n",
    "        for k in range(n):\n",
    "            if arr[k] > arr[k+1]:\n",
    "                temp = arr[k]\n",
    "                arr[k] = arr[k+1]\n",
    "                arr[k+1]=temp\n",
    "                swapped = True\n",
    "        if not swapped:\n",
    "            return"
   ]
  },
  {
   "cell_type": "code",
   "execution_count": 51,
   "metadata": {
    "collapsed": false
   },
   "outputs": [
    {
     "data": {
      "text/plain": [
       "[1, 2, 3, 5, 7]"
      ]
     },
     "execution_count": 51,
     "metadata": {},
     "output_type": "execute_result"
    }
   ],
   "source": [
    "arr=[5,3,2,7,1]\n",
    "bubble_sort(arr)\n",
    "arr"
   ]
  },
  {
   "cell_type": "code",
   "execution_count": 52,
   "metadata": {
    "collapsed": true
   },
   "outputs": [],
   "source": [
    "def selection_sort(arr):\n",
    "    for n in range(len(arr)):\n",
    "        pos_of_min = n\n",
    "        for k in range(n+1, len(arr)):\n",
    "            if arr[k] < arr[pos_of_min]:\n",
    "                pos_of_min = k\n",
    "        arr[n], arr[pos_of_min] = arr[pos_of_min],arr[n]"
   ]
  },
  {
   "cell_type": "code",
   "execution_count": 53,
   "metadata": {
    "collapsed": false
   },
   "outputs": [
    {
     "data": {
      "text/plain": [
       "[1, 2, 3, 5, 7]"
      ]
     },
     "execution_count": 53,
     "metadata": {},
     "output_type": "execute_result"
    }
   ],
   "source": [
    "arr=[5,3,2,7,1]\n",
    "selection_sort(arr)\n",
    "arr"
   ]
  },
  {
   "cell_type": "code",
   "execution_count": 83,
   "metadata": {
    "collapsed": true
   },
   "outputs": [],
   "source": [
    "def insertion_sort(arr):\n",
    "    for n in range(1,len(arr)):\n",
    "        temp = arr[n]\n",
    "        for loc in range (n-1,-1,-1):\n",
    "            if arr[loc] > temp:\n",
    "                arr[loc+1] = arr[loc]\n",
    "            else:\n",
    "                arr[loc+1]= temp\n",
    "                break\n",
    "        else:\n",
    "            arr[0] = temp"
   ]
  },
  {
   "cell_type": "code",
   "execution_count": 85,
   "metadata": {
    "collapsed": true
   },
   "outputs": [],
   "source": [
    "def insertion_sort2(arr):\n",
    "    for i in range (1, len(arr)):\n",
    "        currentvalue = arr[i]\n",
    "        position = i\n",
    "        while position > 0 and arr[position-1]>currentvalue:\n",
    "            arr[position]=arr[position-1]\n",
    "            position -= 1\n",
    "        arr[position]=currentvalue"
   ]
  },
  {
   "cell_type": "code",
   "execution_count": 86,
   "metadata": {
    "collapsed": false
   },
   "outputs": [
    {
     "data": {
      "text/plain": [
       "[1, 2, 3, 5, 7]"
      ]
     },
     "execution_count": 86,
     "metadata": {},
     "output_type": "execute_result"
    }
   ],
   "source": [
    "arr=[5,3,2,7,1]\n",
    "insertion_sort2(arr)\n",
    "arr"
   ]
  },
  {
   "cell_type": "code",
   "execution_count": null,
   "metadata": {
    "collapsed": true
   },
   "outputs": [],
   "source": [
    "def shell_sort(arr):\n",
    "    sublistCount = len(arr)/2\n",
    "    while sublistCount > 0:\n",
    "        for start in range(sublistCount):\n",
    "            gap_insertion_sort(arr,start,sublistCount)\n",
    "            sublistCount = SublistCount // 2"
   ]
  },
  {
   "cell_type": "code",
   "execution_count": null,
   "metadata": {
    "collapsed": true
   },
   "outputs": [],
   "source": [
    "def gap_insetion_sort(arr, start, gap):\n",
    "    for i in range(start+gap,len(arr), gap)):\n",
    "        currentval = arr[i]\n",
    "        position = i\n",
    "        while position >= gap and arr[postion-gap] > currentval:\n",
    "            postion = position-gap\n",
    "        arr[position]=currentvalue\n",
    "   \n"
   ]
  }
 ],
 "metadata": {
  "kernelspec": {
   "display_name": "Python 3",
   "language": "python",
   "name": "python3"
  },
  "language_info": {
   "codemirror_mode": {
    "name": "ipython",
    "version": 3
   },
   "file_extension": ".py",
   "mimetype": "text/x-python",
   "name": "python",
   "nbconvert_exporter": "python",
   "pygments_lexer": "ipython3",
   "version": "3.5.1"
  }
 },
 "nbformat": 4,
 "nbformat_minor": 0
}
